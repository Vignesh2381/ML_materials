{
 "cells": [
  {
   "cell_type": "markdown",
   "id": "4a4be056",
   "metadata": {},
   "source": [
    "# **Missing Values**"
   ]
  },
  {
   "cell_type": "markdown",
   "id": "7552fe90",
   "metadata": {},
   "source": [
    "## Continuous value"
   ]
  },
  {
   "cell_type": "markdown",
   "id": "d8651825",
   "metadata": {},
   "source": [
    "## Complete Case Analysis (Deletion):\n",
    "1. when the missing data is minimal and occurs completely at random.\n",
    "2. When the missing data is distributed uniformly across the variables.\n",
    "3. When there is a large amount of data available, and the removal of a few rows or columns will not significantly affect the analysis.\n",
    "\n"
   ]
  },
  {
   "cell_type": "markdown",
   "id": "a8b967b0",
   "metadata": {},
   "source": [
    "## Mean, Median, or Mode Imputation:\n",
    "\n",
    "1. When the data is missing completely at random or missing not at random, but the missingness is not related to the value of the variable itself.\n",
    "2. When the percentage of missing data is relatively small and imputing with summary statistics is reasonable."
   ]
  },
  {
   "cell_type": "markdown",
   "id": "91dc437c",
   "metadata": {},
   "source": [
    "## Interpolation:\n",
    "\n",
    "1. When working with continuous data or time series data with a smooth relationship between the variables.\n",
    "2. When the missing data points lie within the range of observed values."
   ]
  },
  {
   "cell_type": "markdown",
   "id": "8058344d",
   "metadata": {},
   "source": [
    "## Machine Learning-based Methods:\n",
    "\n",
    "1. When the missing data is related to other features in a complex way that cannot be easily captured by simple imputation methods.\n",
    "2. When there is a substantial amount of data available to build reliable predictive models."
   ]
  },
  {
   "cell_type": "markdown",
   "id": "37b76cfe",
   "metadata": {},
   "source": [
    "## Categorical Values"
   ]
  },
  {
   "cell_type": "markdown",
   "id": "17810755",
   "metadata": {},
   "source": [
    "All above  methods can also be used."
   ]
  },
  {
   "cell_type": "markdown",
   "id": "7012bc63",
   "metadata": {},
   "source": [
    "## Constant Value: \n",
    "1. You can use a specific constant value to represent missing data in a categorical variable. \n",
    "2. This constant can be a string like \"Unknown\" or \"-1,\" depending on the nature of the data."
   ]
  },
  {
   "cell_type": "markdown",
   "id": "176934f3",
   "metadata": {},
   "source": [
    "## Random Imputation: \n",
    "Missing categorical values can be imputed by randomly selecting a category from the available categories in the dataset."
   ]
  },
  {
   "cell_type": "markdown",
   "id": "74cb2fdf",
   "metadata": {},
   "source": [
    "# Implementation!!!"
   ]
  },
  {
   "cell_type": "code",
   "execution_count": 19,
   "id": "44029a12",
   "metadata": {},
   "outputs": [],
   "source": [
    "import numpy as np\n",
    "import pandas as pd\n",
    "import warnings\n",
    "warnings.filterwarnings('ignore')\n",
    "df=pd.read_csv('titanic.csv')"
   ]
  },
  {
   "cell_type": "code",
   "execution_count": 20,
   "id": "47459c58",
   "metadata": {},
   "outputs": [
    {
     "name": "stdout",
     "output_type": "stream",
     "text": [
      "<class 'pandas.core.frame.DataFrame'>\n",
      "RangeIndex: 891 entries, 0 to 890\n",
      "Data columns (total 12 columns):\n",
      " #   Column       Non-Null Count  Dtype  \n",
      "---  ------       --------------  -----  \n",
      " 0   PassengerId  891 non-null    int64  \n",
      " 1   Survived     891 non-null    int64  \n",
      " 2   Pclass       891 non-null    int64  \n",
      " 3   Name         891 non-null    object \n",
      " 4   Sex          891 non-null    object \n",
      " 5   Age          714 non-null    float64\n",
      " 6   SibSp        891 non-null    int64  \n",
      " 7   Parch        891 non-null    int64  \n",
      " 8   Ticket       891 non-null    object \n",
      " 9   Fare         891 non-null    float64\n",
      " 10  Cabin        204 non-null    object \n",
      " 11  Embarked     889 non-null    object \n",
      "dtypes: float64(2), int64(5), object(5)\n",
      "memory usage: 83.7+ KB\n"
     ]
    }
   ],
   "source": [
    "df.info()"
   ]
  },
  {
   "cell_type": "code",
   "execution_count": 21,
   "id": "6ba71829",
   "metadata": {},
   "outputs": [
    {
     "data": {
      "text/plain": [
       "Index(['Age', 'Cabin', 'Embarked'], dtype='object')"
      ]
     },
     "execution_count": 21,
     "metadata": {},
     "output_type": "execute_result"
    }
   ],
   "source": [
    "df.columns[df.isnull().any()]"
   ]
  },
  {
   "cell_type": "markdown",
   "id": "9e1c5c10",
   "metadata": {},
   "source": [
    "### Deletion"
   ]
  },
  {
   "cell_type": "code",
   "execution_count": 22,
   "id": "5d40c041",
   "metadata": {
    "scrolled": true
   },
   "outputs": [],
   "source": [
    "data=df.copy()\n",
    "data.dropna(inplace=True)"
   ]
  },
  {
   "cell_type": "markdown",
   "id": "82ab65da",
   "metadata": {},
   "source": [
    "### Mean, Median, or Mode Imputation:"
   ]
  },
  {
   "cell_type": "markdown",
   "id": "daa63e74",
   "metadata": {},
   "source": [
    "1. Mean for normal continuous\n",
    "2. Median for skewed continuous\n",
    "3. Mode for categorical "
   ]
  },
  {
   "cell_type": "code",
   "execution_count": 36,
   "id": "31f1b094",
   "metadata": {},
   "outputs": [
    {
     "data": {
      "text/plain": [
       "'B96 B98'"
      ]
     },
     "execution_count": 36,
     "metadata": {},
     "output_type": "execute_result"
    }
   ],
   "source": [
    "df['Cabin'].mode()[0] ##for mode use [0]"
   ]
  },
  {
   "cell_type": "code",
   "execution_count": 37,
   "id": "25a6c571",
   "metadata": {},
   "outputs": [
    {
     "data": {
      "text/plain": [
       "Index(['Age', 'Embarked'], dtype='object')"
      ]
     },
     "execution_count": 37,
     "metadata": {},
     "output_type": "execute_result"
    }
   ],
   "source": [
    "data=df.copy()\n",
    "data['Cabin'].fillna(data['Cabin'].mode()[0][0:3],inplace=True)  ##[0:3]becaus two values with same mode,used to get one value\n",
    "data.columns[data.isnull().any()]"
   ]
  },
  {
   "cell_type": "code",
   "execution_count": 39,
   "id": "32f5316c",
   "metadata": {},
   "outputs": [
    {
     "data": {
      "text/plain": [
       "Index(['Cabin', 'Embarked'], dtype='object')"
      ]
     },
     "execution_count": 39,
     "metadata": {},
     "output_type": "execute_result"
    }
   ],
   "source": [
    "data=df.copy()\n",
    "data['Age'].fillna(data['Age'].median(),inplace=True)\n",
    "data.columns[data.isnull().any()]"
   ]
  },
  {
   "cell_type": "markdown",
   "id": "8f54347d",
   "metadata": {},
   "source": [
    "### Interpolation:"
   ]
  },
  {
   "cell_type": "code",
   "execution_count": 42,
   "id": "c7d83ffe",
   "metadata": {},
   "outputs": [
    {
     "data": {
      "text/plain": [
       "Index(['Cabin', 'Embarked'], dtype='object')"
      ]
     },
     "execution_count": 42,
     "metadata": {},
     "output_type": "execute_result"
    }
   ],
   "source": [
    "data=df.copy()\n",
    "data['Age']=data['Age'].interpolate()\n",
    "data.columns[data.isnull().any()]"
   ]
  },
  {
   "cell_type": "code",
   "execution_count": 41,
   "id": "f91db6bd",
   "metadata": {},
   "outputs": [
    {
     "data": {
      "text/plain": [
       "0      22.0\n",
       "1      38.0\n",
       "2      26.0\n",
       "3      35.0\n",
       "4      35.0\n",
       "       ... \n",
       "886    27.0\n",
       "887    19.0\n",
       "888    22.5\n",
       "889    26.0\n",
       "890    32.0\n",
       "Name: Age, Length: 891, dtype: float64"
      ]
     },
     "execution_count": 41,
     "metadata": {},
     "output_type": "execute_result"
    }
   ],
   "source": [
    "data['Age']"
   ]
  },
  {
   "cell_type": "markdown",
   "id": "c85dcbbe",
   "metadata": {},
   "source": [
    "### Constant Value"
   ]
  },
  {
   "cell_type": "code",
   "execution_count": 43,
   "id": "63c9e39d",
   "metadata": {},
   "outputs": [
    {
     "data": {
      "text/plain": [
       "Index(['Age', 'Embarked'], dtype='object')"
      ]
     },
     "execution_count": 43,
     "metadata": {},
     "output_type": "execute_result"
    }
   ],
   "source": [
    "data=df.copy()\n",
    "data['Cabin'].fillna('rare',inplace=True)\n",
    "data.columns[data.isnull().any()]"
   ]
  },
  {
   "cell_type": "code",
   "execution_count": 48,
   "id": "f0e0ddc5",
   "metadata": {},
   "outputs": [
    {
     "data": {
      "text/plain": [
       "rare           687\n",
       "C23 C25 C27      4\n",
       "G6               4\n",
       "B96 B98          4\n",
       "C22 C26          3\n",
       "              ... \n",
       "E34              1\n",
       "C7               1\n",
       "C54              1\n",
       "E36              1\n",
       "C148             1\n",
       "Name: Cabin, Length: 148, dtype: int64"
      ]
     },
     "execution_count": 48,
     "metadata": {},
     "output_type": "execute_result"
    }
   ],
   "source": [
    "data['Cabin'].value_counts()"
   ]
  },
  {
   "cell_type": "markdown",
   "id": "75168c19",
   "metadata": {},
   "source": [
    "### Random Imputation"
   ]
  },
  {
   "cell_type": "code",
   "execution_count": 51,
   "id": "e44059d7",
   "metadata": {},
   "outputs": [
    {
     "data": {
      "text/plain": [
       "B96 B98        4\n",
       "G6             4\n",
       "C23 C25 C27    4\n",
       "C22 C26        3\n",
       "F33            3\n",
       "              ..\n",
       "E34            1\n",
       "C7             1\n",
       "C54            1\n",
       "E36            1\n",
       "C148           1\n",
       "Name: Cabin, Length: 147, dtype: int64"
      ]
     },
     "execution_count": 51,
     "metadata": {},
     "output_type": "execute_result"
    }
   ],
   "source": [
    "import random\n",
    "data=df.copy()\n",
    "data['Cabin'].value_counts()"
   ]
  },
  {
   "cell_type": "code",
   "execution_count": 54,
   "id": "83b2adca",
   "metadata": {},
   "outputs": [],
   "source": [
    "categories = df['Cabin'].dropna().unique()\n",
    "data= df.copy()\n",
    "\n",
    "for index, row in data.iterrows():\n",
    "    if pd.isnull(row['Cabin']):\n",
    "        random_category = random.choice(categories)\n",
    "        data.at[index, 'Cabin'] = random_category"
   ]
  },
  {
   "cell_type": "markdown",
   "id": "46bf8831",
   "metadata": {},
   "source": [
    "### Machine Learning-based Methods"
   ]
  },
  {
   "cell_type": "markdown",
   "id": "867eebba",
   "metadata": {},
   "source": [
    "Any algorithms can be used to predict the missing values."
   ]
  },
  {
   "cell_type": "code",
   "execution_count": null,
   "id": "f471b74f",
   "metadata": {},
   "outputs": [],
   "source": []
  }
 ],
 "metadata": {
  "kernelspec": {
   "display_name": "Python 3 (ipykernel)",
   "language": "python",
   "name": "python3"
  },
  "language_info": {
   "codemirror_mode": {
    "name": "ipython",
    "version": 3
   },
   "file_extension": ".py",
   "mimetype": "text/x-python",
   "name": "python",
   "nbconvert_exporter": "python",
   "pygments_lexer": "ipython3",
   "version": "3.10.9"
  }
 },
 "nbformat": 4,
 "nbformat_minor": 5
}
