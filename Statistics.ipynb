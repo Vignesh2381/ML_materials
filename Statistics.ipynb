{
 "cells": [
  {
   "cell_type": "markdown",
   "id": "22b338fe",
   "metadata": {},
   "source": [
    "## Scenario: Continuous data, one sample, testing for a specific value:\n",
    "If you have continuous data and want to test whether the sample mean is significantly different from a specific value (e.g., testing if the mean is different from zero), you can use a One Sample t-test.\n",
    "\n",
    "## Scenario: Continuous data, one sample, testing for central tendency:\n",
    "If you have continuous data and want to test whether the sample mean is significantly different from the population mean (or a hypothesized value), you can use a One Sample t-test.\n",
    "\n",
    "## Scenario: Categorical data, one sample, testing for proportion:\n",
    "If you have categorical data (e.g., yes/no or success/failure) and want to test whether the proportion of a specific outcome is significantly different from a hypothesized value (e.g., testing if the proportion is significantly different from 0.5), you can use a One Sample Proportion Test (also known as a One Sample Z-test for proportions).\n",
    "\n",
    "## Scenario: Continuous data, comparing two groups:\n",
    "If you have continuous data and want to compare the means of two groups (e.g., experimental vs. control group), you can use the Independent Samples t-test if the groups are independent or the Paired Samples t-test if the groups are related (paired/matched samples).\n",
    "\n",
    "## Scenario: Categorical data, comparing two groups:\n",
    "If you have categorical data and want to compare the proportions of a specific outcome between two groups, you can use the Chi-Square test or Fisher's exact test for 2x2 contingency tables, and Chi-Square test for independence for larger contingency tables.\n",
    "\n",
    "## Scenario: Ordinal data, comparing two or more groups:\n",
    "If you have ordinal data (data with an inherent order but not necessarily equal intervals) and want to compare the distributions of multiple groups, you can use the Mann-Whitney U test for two independent groups or Kruskal-Wallis test for three or more independent groups.\n",
    "\n",
    "## Scenario: Continuous data, comparing more than two groups:\n",
    "If you have continuous data and want to compare the means of more than two groups, you can use ANOVA (Analysis of Variance) if the groups are independent or Repeated Measures ANOVA if the groups are related (repeated measures).\n",
    "\n",
    "## Scenario: Categorical data, comparing more than two groups:\n",
    "If you have categorical data and want to compare the proportions of a specific outcome among more than two groups, you can use Chi-Square test for independence for larger contingency tables or Cochran's Q test for related samples.\n",
    "\n",
    "## Scenario: Correlation between two continuous variables:\n",
    "If you want to assess the strength and direction of the relationship between two continuous variables, you can use Pearson's correlation coefficient or Spearman's rank correlation coefficient if the relationship is not linear"
   ]
  },
  {
   "cell_type": "markdown",
   "id": "f34f936a",
   "metadata": {},
   "source": [
    "## The t-statistic:\n",
    "1. (also known as the t-value) is a measure that quantifies the difference between the sample mean and the population mean (or a hypothesized value) in units of standard error. \n",
    "2. It is a key component in the One Sample t-test and other t-tests, and it helps to determine whether the observed difference is statistically significant"
   ]
  },
  {
   "cell_type": "markdown",
   "id": "4fc68756",
   "metadata": {},
   "source": [
    "## The Z-statistic:\n",
    "1. (also known as the Z-score) is a measure that quantifies how many standard deviations a data point is away from the mean of a distribution. \n",
    "2. It is commonly used in statistical hypothesis testing and is particularly important in the context of the One Sample Z-test and the Z-test for proportions"
   ]
  },
  {
   "cell_type": "code",
   "execution_count": null,
   "id": "ffd8f117",
   "metadata": {},
   "outputs": [],
   "source": []
  }
 ],
 "metadata": {
  "kernelspec": {
   "display_name": "Python 3 (ipykernel)",
   "language": "python",
   "name": "python3"
  },
  "language_info": {
   "codemirror_mode": {
    "name": "ipython",
    "version": 3
   },
   "file_extension": ".py",
   "mimetype": "text/x-python",
   "name": "python",
   "nbconvert_exporter": "python",
   "pygments_lexer": "ipython3",
   "version": "3.10.9"
  }
 },
 "nbformat": 4,
 "nbformat_minor": 5
}
